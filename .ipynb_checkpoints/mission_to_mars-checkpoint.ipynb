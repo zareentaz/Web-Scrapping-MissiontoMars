{
 "cells": [
  {
   "cell_type": "code",
   "execution_count": 268,
   "metadata": {},
   "outputs": [],
   "source": [
    "# Dependencies\n",
    "from splinter import Browser\n",
    "from bs4 import BeautifulSoup\n",
    "import requests\n",
    "import pymongo\n",
    "import re\n",
    "import pandas as pd"
   ]
  },
  {
   "cell_type": "code",
   "execution_count": 269,
   "metadata": {},
   "outputs": [],
   "source": [
    "# Initialize PyMongo to work with MongoDBs\n",
    "conn = 'mongodb://localhost:27017'\n",
    "client = pymongo.MongoClient(conn)"
   ]
  },
  {
   "cell_type": "code",
   "execution_count": 270,
   "metadata": {},
   "outputs": [],
   "source": [
    "\n",
    "executable_path = {'executable_path': 'chromedriver'}\n",
    "browser = Browser('chrome', **executable_path, headless=False)"
   ]
  },
  {
   "cell_type": "code",
   "execution_count": 271,
   "metadata": {},
   "outputs": [],
   "source": [
    "mission_url = 'https://mars.nasa.gov/news/'\n",
    "browser.visit(mission_url)\n",
    "html=browser.html"
   ]
  },
  {
   "cell_type": "code",
   "execution_count": 282,
   "metadata": {},
   "outputs": [],
   "source": [
    "soup = BeautifulSoup(html, 'html.parser')\n",
    "#soup.prettify()"
   ]
  },
  {
   "cell_type": "code",
   "execution_count": 283,
   "metadata": {},
   "outputs": [
    {
     "data": {
      "text/plain": [
       "'News  – NASA’s Mars Exploration Program '"
      ]
     },
     "execution_count": 283,
     "metadata": {},
     "output_type": "execute_result"
    }
   ],
   "source": [
    "#Extracting the title of web page\n",
    "soup.title.text"
   ]
  },
  {
   "cell_type": "code",
   "execution_count": 284,
   "metadata": {},
   "outputs": [
    {
     "name": "stdout",
     "output_type": "stream",
     "text": [
      "news_title = NASA 'Optometrists' Verify Mars 2020 Rover's 20/20 Vision\n"
     ]
    }
   ],
   "source": [
    "#Extract the latest News Title\n",
    "content = soup.find('li', class_='slide')\n",
    "#print(content)\n",
    "\n",
    "#scrape the title from h3 tag & print the news_title\n",
    "news_title = content.find('h3').text\n",
    "print(f\"news_title = {news_title}\")\n",
    "\n"
   ]
  },
  {
   "cell_type": "code",
   "execution_count": 285,
   "metadata": {},
   "outputs": [
    {
     "name": "stdout",
     "output_type": "stream",
     "text": [
      "news_p = Mars 2020 rover underwent an eye exam after several cameras were installed on the rover.\n"
     ]
    }
   ],
   "source": [
    "#Extract the latest paragraph text from the class\n",
    "news_p=soup.find('div',class_='article_teaser_body').text.strip()\n",
    "print(f\"news_p = {news_p}\")"
   ]
  },
  {
   "cell_type": "code",
   "execution_count": 286,
   "metadata": {},
   "outputs": [],
   "source": [
    "#JPL Mars Space Images - Featured Image\n",
    "JPL_url = \"https://www.jpl.nasa.gov/spaceimages/?search=&category=Mars\"\n",
    "browser.visit(JPL_url)\n",
    "html=browser.html"
   ]
  },
  {
   "cell_type": "code",
   "execution_count": 287,
   "metadata": {},
   "outputs": [],
   "source": [
    "soup = BeautifulSoup(html, 'html.parser')\n",
    "#soup.prettify()"
   ]
  },
  {
   "cell_type": "code",
   "execution_count": 288,
   "metadata": {},
   "outputs": [],
   "source": [
    "#Getting the soucre image name  .jpg\n",
    "images = soup.find_all('img', {'src':re.compile('.jpg')})\n",
    "first_image=images[0]['src']\n"
   ]
  },
  {
   "cell_type": "code",
   "execution_count": 290,
   "metadata": {},
   "outputs": [
    {
     "name": "stdout",
     "output_type": "stream",
     "text": [
      "featured_image_url = https://www.jpl.nasa.gov/spaceimages/?search=&category=Mars/spaceimages/images/wallpaper/PIA23384-640x350.jpg\n"
     ]
    }
   ],
   "source": [
    "#concatinating the url and the image url\n",
    "featured_image_url = JPL_url+first_image\n",
    "print(f\"featured_image_url = {featured_image_url}\")"
   ]
  },
  {
   "cell_type": "code",
   "execution_count": 294,
   "metadata": {},
   "outputs": [],
   "source": [
    "#scrape the latest Mars weather tweet from the page\n",
    "executable_path = {'executable_path': 'chromedriver'}\n",
    "browser = Browser('chrome', **executable_path, headless=False)\n",
    "twitter_url=\"https://twitter.com/marswxreport?lang=en\"\n",
    "browser.visit(twitter_url)\n",
    "html=browser.html\n",
    "soup = BeautifulSoup(html, 'html.parser')\n",
    "#soup.prettify()"
   ]
  },
  {
   "cell_type": "code",
   "execution_count": 297,
   "metadata": {},
   "outputs": [],
   "source": [
    "mars_weather_data=soup.find('div',class_='js-tweet-text-container')\n",
    "#mars_weather_data\n"
   ]
  },
  {
   "cell_type": "code",
   "execution_count": 298,
   "metadata": {},
   "outputs": [
    {
     "name": "stdout",
     "output_type": "stream",
     "text": [
      "mars_weather = InSight sol 245 (2019-08-05) low -99.9ºC (-147.8ºF) high -25.6ºC (-14.1ºF)\n",
      "winds from the SSE at 4.6 m/s (10.2 mph) gusting to 17.7 m/s (39.5 mph)\n",
      "pressure at 7.60 hPapic.twitter.com/kLqykpNHtR\n"
     ]
    }
   ],
   "source": [
    "mars_weather=mars_weather_data.find('p').text.strip()\n",
    "print(f\"mars_weather = {mars_weather}\")"
   ]
  },
  {
   "cell_type": "code",
   "execution_count": 312,
   "metadata": {},
   "outputs": [
    {
     "data": {
      "text/html": [
       "<div>\n",
       "<style scoped>\n",
       "    .dataframe tbody tr th:only-of-type {\n",
       "        vertical-align: middle;\n",
       "    }\n",
       "\n",
       "    .dataframe tbody tr th {\n",
       "        vertical-align: top;\n",
       "    }\n",
       "\n",
       "    .dataframe thead th {\n",
       "        text-align: right;\n",
       "    }\n",
       "</style>\n",
       "<table border=\"1\" class=\"dataframe\">\n",
       "  <thead>\n",
       "    <tr style=\"text-align: right;\">\n",
       "      <th></th>\n",
       "      <th>Value</th>\n",
       "    </tr>\n",
       "    <tr>\n",
       "      <th>Description</th>\n",
       "      <th></th>\n",
       "    </tr>\n",
       "  </thead>\n",
       "  <tbody>\n",
       "    <tr>\n",
       "      <th>Equatorial Diameter:</th>\n",
       "      <td>6,792 km</td>\n",
       "    </tr>\n",
       "    <tr>\n",
       "      <th>Polar Diameter:</th>\n",
       "      <td>6,752 km</td>\n",
       "    </tr>\n",
       "    <tr>\n",
       "      <th>Mass:</th>\n",
       "      <td>6.39 × 10^23 kg (0.11 Earths)</td>\n",
       "    </tr>\n",
       "    <tr>\n",
       "      <th>Moons:</th>\n",
       "      <td>2 (Phobos &amp; Deimos)</td>\n",
       "    </tr>\n",
       "    <tr>\n",
       "      <th>Orbit Distance:</th>\n",
       "      <td>227,943,824 km (1.38 AU)</td>\n",
       "    </tr>\n",
       "    <tr>\n",
       "      <th>Orbit Period:</th>\n",
       "      <td>687 days (1.9 years)</td>\n",
       "    </tr>\n",
       "    <tr>\n",
       "      <th>Surface Temperature:</th>\n",
       "      <td>-87 to -5 °C</td>\n",
       "    </tr>\n",
       "    <tr>\n",
       "      <th>First Record:</th>\n",
       "      <td>2nd millennium BC</td>\n",
       "    </tr>\n",
       "    <tr>\n",
       "      <th>Recorded By:</th>\n",
       "      <td>Egyptian astronomers</td>\n",
       "    </tr>\n",
       "  </tbody>\n",
       "</table>\n",
       "</div>"
      ],
      "text/plain": [
       "                                              Value\n",
       "Description                                        \n",
       "Equatorial Diameter:                       6,792 km\n",
       "Polar Diameter:                            6,752 km\n",
       "Mass:                 6.39 × 10^23 kg (0.11 Earths)\n",
       "Moons:                          2 (Phobos & Deimos)\n",
       "Orbit Distance:            227,943,824 km (1.38 AU)\n",
       "Orbit Period:                  687 days (1.9 years)\n",
       "Surface Temperature:                   -87 to -5 °C\n",
       "First Record:                     2nd millennium BC\n",
       "Recorded By:                   Egyptian astronomers"
      ]
     },
     "execution_count": 312,
     "metadata": {},
     "output_type": "execute_result"
    }
   ],
   "source": [
    "#Mars Facts\n",
    "mars_facts_url='http://space-facts.com/mars/'\n",
    "mars_facts = pd.read_html(mars_facts_url)\n",
    "\n",
    "# Find the mars facts DataFrame in the list of DataFrames as assign it to `mars_df`\n",
    "mars_df = mars_facts[1]\n",
    "\n",
    "\n",
    "# Assign the columns `['Description', 'Value']`\n",
    "mars_df.columns = ['Description','Value']\n",
    "\n",
    "# Set the index to the `Description` column without row indexing\n",
    "mars_df.set_index('Description', inplace=True)\n",
    "\n",
    "# Save html code to folder Assets\n",
    "mars_df.to_html()\n",
    "\n",
    "data = mars_df.to_dict(orient='records')  # Here's our added param..\n",
    "\n",
    "# Display mars_df\n",
    "mars_df"
   ]
  },
  {
   "cell_type": "code",
   "execution_count": 150,
   "metadata": {},
   "outputs": [
    {
     "data": {
      "text/plain": [
       "'<table border=\"1\" class=\"dataframe\">\\n  <thead>\\n    <tr style=\"text-align: right;\">\\n      <th></th>\\n      <th>Mars - Earth Comparison</th>\\n      <th>Mars</th>\\n      <th>Earth</th>\\n    </tr>\\n  </thead>\\n  <tbody>\\n    <tr>\\n      <th>0</th>\\n      <td>Diameter:</td>\\n      <td>6,779 km</td>\\n      <td>12,742 km</td>\\n    </tr>\\n    <tr>\\n      <th>1</th>\\n      <td>Mass:</td>\\n      <td>6.39 × 10^23 kg</td>\\n      <td>5.97 × 10^24 kg</td>\\n    </tr>\\n    <tr>\\n      <th>2</th>\\n      <td>Moons:</td>\\n      <td>2</td>\\n      <td>1</td>\\n    </tr>\\n    <tr>\\n      <th>3</th>\\n      <td>Distance from Sun:</td>\\n      <td>227,943,824 km</td>\\n      <td>149,598,262 km</td>\\n    </tr>\\n    <tr>\\n      <th>4</th>\\n      <td>Length of Year:</td>\\n      <td>687 Earth days</td>\\n      <td>365.24 days</td>\\n    </tr>\\n    <tr>\\n      <th>5</th>\\n      <td>Temperature:</td>\\n      <td>-153 to 20 °C</td>\\n      <td>-88 to 58°C</td>\\n    </tr>\\n  </tbody>\\n</table>'"
      ]
     },
     "execution_count": 150,
     "metadata": {},
     "output_type": "execute_result"
    }
   ],
   "source": [
    "#By using to_html method we can generate HTML tables from DataFrames.\n",
    "html_table = df.to_html()\n",
    "html_table\n"
   ]
  },
  {
   "cell_type": "code",
   "execution_count": 151,
   "metadata": {},
   "outputs": [
    {
     "data": {
      "text/plain": [
       "'<table border=\"1\" class=\"dataframe\">  <thead>    <tr style=\"text-align: right;\">      <th></th>      <th>Mars - Earth Comparison</th>      <th>Mars</th>      <th>Earth</th>    </tr>  </thead>  <tbody>    <tr>      <th>0</th>      <td>Diameter:</td>      <td>6,779 km</td>      <td>12,742 km</td>    </tr>    <tr>      <th>1</th>      <td>Mass:</td>      <td>6.39 × 10^23 kg</td>      <td>5.97 × 10^24 kg</td>    </tr>    <tr>      <th>2</th>      <td>Moons:</td>      <td>2</td>      <td>1</td>    </tr>    <tr>      <th>3</th>      <td>Distance from Sun:</td>      <td>227,943,824 km</td>      <td>149,598,262 km</td>    </tr>    <tr>      <th>4</th>      <td>Length of Year:</td>      <td>687 Earth days</td>      <td>365.24 days</td>    </tr>    <tr>      <th>5</th>      <td>Temperature:</td>      <td>-153 to 20 °C</td>      <td>-88 to 58°C</td>    </tr>  </tbody></table>'"
      ]
     },
     "execution_count": 151,
     "metadata": {},
     "output_type": "execute_result"
    }
   ],
   "source": [
    "#strip unwanted newlines to clean up the table.\n",
    "html_table.replace('\\n', '')"
   ]
  },
  {
   "cell_type": "code",
   "execution_count": 152,
   "metadata": {},
   "outputs": [],
   "source": [
    "#save the table directly to a file.\n",
    "df.to_html('table.html')"
   ]
  },
  {
   "cell_type": "code",
   "execution_count": 225,
   "metadata": {},
   "outputs": [
    {
     "data": {
      "text/plain": [
       "'<!DOCTYPE html>\\n<html lang=\"en\" xmlns=\"http://www.w3.org/1999/xhtml\">\\n <head>\\n  <link href=\"//ajax.googleapis.com/ajax/libs/jqueryui/1.11.3/themes/smoothness/jquery-ui.css\" rel=\"stylesheet\" type=\"text/css\"/>\\n  <title>\\n   Astropedia Search Results | USGS Astrogeology Science Center\\n  </title>\\n  <meta content=\"USGS Astrogeology Science Center Astropedia search results.\" name=\"description\"/>\\n  <meta content=\"USGS,Astrogeology Science Center,Cartography,Geology,Space,Geological Survey,Mapping\" name=\"keywords\"/>\\n  <meta content=\"IE=edge\" http-equiv=\"X-UA-Compatible\"/>\\n  <meta content=\"text/html; charset=utf-8\" http-equiv=\"Content-Type\"/>\\n  <meta content=\"width=device-width, initial-scale=1, maximum-scale=1\" name=\"viewport\"/>\\n  <meta content=\"x61hXXVj7wtfBSNOPnTftajMsZ5yB2W-qRoyr7GtOKM\" name=\"google-site-verification\"/>\\n  <!--<link rel=\"stylesheet\" href=\"http://fonts.googleapis.com/css?family=Open+Sans:400italic,400,bold\"/>-->\\n  <link href=\"/css/main.css\" media=\"screen\" rel=\"stylesheet\"/>\\n  <link href=\"/css/print.css\" media=\"print\" rel=\"stylesheet\"/>\\n  <!--[if lt IE 9]>\\n\\t\\t\\t<script src=\"http://html5shiv.googlecode.com/svn/trunk/html5.js\"></script>\\n\\t\\t\\t<script src=\"/js/respond.min.js\"></script>\\n\\t\\t\\t<link rel=\"stylesheet\" type=\"text/css\" href=\"/css/ie.css\"/>\\n                        <script>\\n                          document.createElement(\\'header\\');\\n                          document.createElement(\\'nav\\');\\n                          document.createElement(\\'section\\');\\n                          document.createElement(\\'article\\');\\n                          document.createElement(\\'aside\\');\\n                          document.createElement(\\'footer\\');\\n                          document.createElement(\\'hgroup\\');\\n                        </script>\\n                  <![endif]-->\\n  <link href=\"/favicon.ico\" rel=\"icon\" type=\"image/x-ico\"/>\\n </head>\\n <body id=\"results\">\\n  <header>\\n   <!--\\n\\t\\t\\t<h1>Astrogeology Science Center</h1>\\n-->\\n   <a href=\"https://www.usgs.gov/centers/astrogeo-sc\" style=\"float:right;margin-top:10px;\">\\n    <img alt=\"USGS: Science for a Changing World\" class=\"logo\" height=\"60\" src=\"/images/usgs_logo_main_2x.png\"/>\\n   </a>\\n   <a href=\"https://nasa.gov\" style=\"float:right;margin-top:5px;margin-right:20px;\">\\n    <img alt=\"NASA\" class=\"logo\" height=\"65\" src=\"/images/logos/nasa-logo-web-med.png\"/>\\n   </a>\\n   <a href=\"https://pds-imaging.jpl.nasa.gov/\" style=\"float:right;margin-top:5px;margin-right: 10px;\">\\n    <img alt=\"PDS Cartography and Imaging Science Node\" class=\"logo\" height=\"65\" src=\"/images/pds_logo-invisible-web.png\"/>\\n   </a>\\n  </header>\\n  <div class=\"wrapper\">\\n   <!--\\n\\t\\t\\t<nav>\\n\\t\\t\\t\\t<a id=\"nav-toggle\" href=\"#\" title=\"Navigation Menu\">Menu</a>\\n<ul class=\"dropdown dropdown-horizontal\" id=\"yw0\">\\n<li><a href=\"/\">Home</a></li>\\n<li><a href=\"/about\">About</a>\\n<ul>\\n<li><a href=\"/about/careers\">Careers</a></li>\\n<li><a href=\"/contact\">Contact</a></li>\\n<li><a href=\"/about/events\">Events</a></li>\\n<li><a href=\"/site/glossary\">Glossary</a></li>\\n<li><a href=\"/about/mission\">Mission</a></li>\\n<li><a href=\"/news\">News</a></li>\\n<li><a href=\"/people\">People</a></li>\\n<li><a href=\"/about/using-our-images\">Using Our Images</a></li>\\n<li><a href=\"/about/visitors\">Visitors</a></li>\\n</ul>\\n</li>\\n<li><a href=\"/facilities\">Labs / Facilities</a>\\n<ul>\\n<li><a href=\"/facilities/flynn-creek-crater-sample-collection\">Flynn Creek Crater Sample Collection</a></li>\\n<li><a href=\"http://www.moon-cal.org\">Lunar Calibration Project</a></li>\\n<li><a href=\"/facilities/meteor-crater-sample-collection\">Meteor Crater Sample Collection</a></li>\\n<li><a href=\"/facilities/mrctr\">MRCTR GIS Lab</a></li>\\n<li><a href=\"/facilities/cartography-and-imaging-sciences-node-of-nasa-planetary-data-system\">PDS Cartography and Imaging Sciences Node</a></li>\\n<li><a href=\"/pds/annex\">PDS IMG Annex</a></li>\\n<li><a href=\"/facilities/photogrammetry-guest-facility\">Photogrammetry Guest Facility</a></li>\\n<li><a href=\"/rpif\">Regional Planetary Information Facility (RPIF)</a></li>\\n</ul>\\n</li>\\n<li><a href=\"/maps\">Maps / Products</a>\\n<ul>\\n<li><a href=\"/search\">Product Search</a></li>\\n<li><a href=\"http://planetarynames.wr.usgs.gov\">Gazetteer of Planetary Nomenclature</a></li>\\n<li><a href=\"http://planetarymapping.wr.usgs.gov\">Geologic Mapping Program</a></li>\\n<li><a href=\"http://pilot.wr.usgs.gov\">Planetary Image Locator Tool (PILOT)</a></li>\\n<li><a href=\"/search/planetary-index\">Planetary Map Index</a></li>\\n</ul>\\n</li>\\n<li><a href=\"/geology\">Missions / Research</a>\\n<ul>\\n<li><a href=\"/geology/mars-dunes\">Mars Dunes</a></li>\\n<li><a href=\"/geology/mars-ice\">Mars Ice</a></li>\\n<li><a href=\"/missions\">Mission Support</a></li>\\n<li><a href=\"/solar-system\">Solar System</a></li>\\n<li><a href=\"/groups\">Working Groups</a></li>\\n</ul>\\n</li>\\n<li><a href=\"/tools\">Tools</a>\\n<ul>\\n<li><a href=\"http://planetarynames.wr.usgs.gov\">Gazetteer of Planetary Nomenclature</a></li>\\n<li><a href=\"http://isis.astrogeology.usgs.gov\">Integrated Software for Imagers and Spectrometers (ISIS)</a></li>\\n<li><a href=\"http://astrogeology.usgs.gov/tools/map-a-planet-2\">Map a Planet 2</a></li>\\n<li><a href=\"http://pilot.wr.usgs.gov\">Planetary Image Locator Tool (PILOT)</a></li>\\n<li><a href=\"http://astrocloud.wr.usgs.gov/\">Projection on the Web (POW)</a></li>\\n</ul>\\n</li>\\n</ul>\\t\\t\\t\\t<form id=\"search\" class=\"search\" action=\"/search/results\" method=\"get\">\\n\\t\\t\\t\\t\\t<input type=\"submit\" value=\"\" title=\"Search Astropedia\"/>\\n\\t\\t\\t\\t\\t<input type=\"text\" placeholder=\"Search\" name=\"q\"/>\\n\\t\\t\\t\\t</form>\\n\\t\\t\\t</nav>\\n-->\\n   <div class=\"container\">\\n    <div class=\"widget block bar\">\\n     <a href=\"/search\" style=\"float:right;text-decoration:none;\">\\n      <img alt=\"Astropedia\" src=\"/images/astropedia/astropedia-logo-main.png\" style=\"width:200px;border:none;float:right;\"/>\\n      <div style=\"clear:both;font-size:.8em;float:right;color:#888;\">\\n       Lunar and Planetary Cartographic Catalog\\n      </div>\\n     </a>\\n     <div style=\"float:left;height:60px;\">\\n     </div>\\n    </div>\\n    <div class=\"full-content\">\\n     <section class=\"block\" id=\"results-accordian\">\\n      <div class=\"result-list\" data-section=\"product\" id=\"product-section\">\\n       <div class=\"accordian\">\\n        <h2>\\n         Products\\n        </h2>\\n        <span class=\"count\">\\n         4 Results\\n        </span>\\n        <span class=\"collapse\">\\n         Collapse\\n        </span>\\n       </div>\\n       <div class=\"collapsible results\">\\n        <div class=\"item\">\\n         <a class=\"itemLink product-item\" href=\"/search/map/Mars/Viking/cerberus_enhanced\">\\n          <img alt=\"Cerberus Hemisphere Enhanced thumbnail\" class=\"thumb\" src=\"/cache/images/dfaf3849e74bf973b59eb50dab52b583_cerberus_enhanced.tif_thumb.png\"/>\\n         </a>\\n         <div class=\"description\">\\n          <a class=\"itemLink product-item\" href=\"/search/map/Mars/Viking/cerberus_enhanced\">\\n           <h3>\\n            Cerberus Hemisphere Enhanced\\n           </h3>\\n          </a>\\n          <span class=\"subtitle\" style=\"float:left\">\\n           image/tiff 21 MB\\n          </span>\\n          <span class=\"pubDate\" style=\"float:right\">\\n          </span>\\n          <br/>\\n          <p>\\n           Mosaic of the Cerberus hemisphere of Mars projected into point perspective, a view similar to that which one would see from a spacecraft. This mosaic is composed of 104 Viking Orbiter images acquired…\\n          </p>\\n         </div>\\n         <!-- end description -->\\n        </div>\\n        <div class=\"item\">\\n         <a class=\"itemLink product-item\" href=\"/search/map/Mars/Viking/schiaparelli_enhanced\">\\n          <img alt=\"Schiaparelli Hemisphere Enhanced thumbnail\" class=\"thumb\" src=\"/cache/images/7677c0a006b83871b5a2f66985ab5857_schiaparelli_enhanced.tif_thumb.png\"/>\\n         </a>\\n         <div class=\"description\">\\n          <a class=\"itemLink product-item\" href=\"/search/map/Mars/Viking/schiaparelli_enhanced\">\\n           <h3>\\n            Schiaparelli Hemisphere Enhanced\\n           </h3>\\n          </a>\\n          <span class=\"subtitle\" style=\"float:left\">\\n           image/tiff 35 MB\\n          </span>\\n          <span class=\"pubDate\" style=\"float:right\">\\n          </span>\\n          <br/>\\n          <p>\\n           Mosaic of the Schiaparelli hemisphere of Mars projected into point perspective, a view similar to that which one would see from a spacecraft. The images were acquired in 1980 during early northern…\\n          </p>\\n         </div>\\n         <!-- end description -->\\n        </div>\\n        <div class=\"item\">\\n         <a class=\"itemLink product-item\" href=\"/search/map/Mars/Viking/syrtis_major_enhanced\">\\n          <img alt=\"Syrtis Major Hemisphere Enhanced thumbnail\" class=\"thumb\" src=\"/cache/images/aae41197e40d6d4f3ea557f8cfe51d15_syrtis_major_enhanced.tif_thumb.png\"/>\\n         </a>\\n         <div class=\"description\">\\n          <a class=\"itemLink product-item\" href=\"/search/map/Mars/Viking/syrtis_major_enhanced\">\\n           <h3>\\n            Syrtis Major Hemisphere Enhanced\\n           </h3>\\n          </a>\\n          <span class=\"subtitle\" style=\"float:left\">\\n           image/tiff 25 MB\\n          </span>\\n          <span class=\"pubDate\" style=\"float:right\">\\n          </span>\\n          <br/>\\n          <p>\\n           Mosaic of the Syrtis Major hemisphere of Mars projected into point perspective, a view similar to that which one would see from a spacecraft. This mosaic is composed of about 100 red and violet…\\n          </p>\\n         </div>\\n         <!-- end description -->\\n        </div>\\n        <div class=\"item\">\\n         <a class=\"itemLink product-item\" href=\"/search/map/Mars/Viking/valles_marineris_enhanced\">\\n          <img alt=\"Valles Marineris Hemisphere Enhanced thumbnail\" class=\"thumb\" src=\"/cache/images/04085d99ec3713883a9a57f42be9c725_valles_marineris_enhanced.tif_thumb.png\"/>\\n         </a>\\n         <div class=\"description\">\\n          <a class=\"itemLink product-item\" href=\"/search/map/Mars/Viking/valles_marineris_enhanced\">\\n           <h3>\\n            Valles Marineris Hemisphere Enhanced\\n           </h3>\\n          </a>\\n          <span class=\"subtitle\" style=\"float:left\">\\n           image/tiff 27 MB\\n          </span>\\n          <span class=\"pubDate\" style=\"float:right\">\\n          </span>\\n          <br/>\\n          <p>\\n           Mosaic of the Valles Marineris hemisphere of Mars projected into point perspective, a view similar to that which one would see from a spacecraft. The distance is 2500 kilometers from the surface of…\\n          </p>\\n         </div>\\n         <!-- end description -->\\n        </div>\\n        <script async=\"\" src=\"https://ssl.google-analytics.com/ga.js\" type=\"text/javascript\">\\n        </script>\\n        <script>\\n         addBases=[];;if(typeof resetLayerSwitcher===\"function\"){resetLayerSwitcher(false)};var productTotal = 4;\\n        </script>\\n       </div>\\n       <!-- end this-section -->\\n      </div>\\n     </section>\\n    </div>\\n   </div>\\n   <div class=\"icons projects black scroll-wrapper\">\\n    <div class=\"scroll\">\\n     <a class=\"icon\" href=\"http://isis.astrogeology.usgs.gov\" title=\"Integrated Software for Imagers and Spectrometers\">\\n      <img alt=\"ISIS Logo\" height=\"112\" src=\"/images/logos/isis_2x.jpg\" width=\"112\"/>\\n      <span class=\"label\">\\n       ISIS\\n      </span>\\n     </a>\\n     <a class=\"icon\" href=\"http://planetarynames.wr.usgs.gov\" title=\"Gazetteer of Planetary Nomenclature\">\\n      <img alt=\"Nomenclature Logo\" height=\"112\" src=\"/images/logos/nomenclature_2x.jpg\" width=\"112\"/>\\n      <span class=\"label\">\\n       Planetary Nomenclature\\n      </span>\\n     </a>\\n     <a class=\"icon\" href=\"https://astrogeology.usgs.gov/tools/map-a-planet-2\" title=\"Map a Planet 2\">\\n      <img alt=\"Map-a-Planet Logo\" height=\"112\" src=\"/images/logos/map_a_planet_2x.jpg\" width=\"112\"/>\\n      <span class=\"label\">\\n       Map a Planet 2\\n      </span>\\n     </a>\\n     <a class=\"icon\" href=\"https://www.usgs.gov/centers/astrogeo-sc/science/cartography-and-imaging-sciences-node-nasa-planetary-data-system\" title=\"PDS Cartography and Imaging Science Node\">\\n      <img alt=\"PDS Logo\" height=\"112\" src=\"/images/pds_logo-black-web.png\"/>\\n      <span class=\"label\">\\n       PDS Cartography and Imaging Science Node\\n      </span>\\n     </a>\\n     <!--\\n\\t\\t\\t\\t\\t\\t<a title=\"Astropedia Search\" href=\"/search\" class=\"icon\">\\n\\t\\t\\t\\t\\t\\t\\t<img alt=\"Astropedia Logo\" height=\"112\" width=\"112\" src=\"/images/logos/astropedia_2x.jpg\"/>\\n\\t\\t\\t\\t\\t\\t\\t<span class=\"label\">Astropedia</span>\\n\\t\\t\\t\\t\\t\\t</a>\\n-->\\n     <a class=\"icon\" href=\"https://www.usgs.gov/centers/astrogeo-sc/science/regional-planetary-image-facility-rpif\" title=\"Regional Planetary Image Facility\">\\n      <img alt=\"RPIF Logo\" height=\"112\" src=\"/images/logos/rpif_2x.jpg\" width=\"112\"/>\\n      <span class=\"label\">\\n       RPIF\\n      </span>\\n     </a>\\n     <a class=\"icon\" href=\"https://www.usgs.gov/centers/astrogeo-sc/science/usgsnasa-planetary-photogrammetry-guest-facility\" title=\"Photogrammetry Guest Facility\">\\n      <img alt=\"Photogrammetry Guest Faciltiy Logo\" height=\"112\" src=\"/images/logos/photogrammetry_2x.jpg\" width=\"112\"/>\\n      <span class=\"label\">\\n       Photogrammetry Guest Facility\\n      </span>\\n     </a>\\n     <a class=\"icon\" href=\"http://pilot.wr.usgs.gov\" title=\"Planetary Image Locator Tool\">\\n      <img alt=\"Pilot Logo\" height=\"112\" src=\"/images/logos/pilot_2x.jpg\" width=\"112\"/>\\n      <span class=\"label\">\\n       PILOT\\n      </span>\\n     </a>\\n     <a class=\"icon\" href=\"https://www.usgs.gov/centers/astrogeo-sc/science/mrctr-gis-lab\" title=\"Mapping, Remote-sensing, Cartography, Technology and Research GIS Lab\">\\n      <img alt=\"MRCTR GIS Lab Logo\" height=\"112\" src=\"/images/logos/mrctr_man_2x.png\" width=\"112\"/>\\n      <span class=\"label\">\\n       MRCTR GIS Lab\\n      </span>\\n     </a>\\n    </div>\\n   </div>\\n   <footer>\\n    <div class=\"left\">\\n     <a href=\"http://astrogeology.usgs.gov/search\">\\n      Search\\n     </a>\\n     |\\n     <a href=\"http://astrogeology.usgs.gov/maps/about\">\\n      About\\n     </a>\\n     |\\n     <a href=\"http://astrogeology.usgs.gov/maps/contact\">\\n      Contact\\n     </a>\\n    </div>\\n    <div class=\"right\">\\n     <a href=\"https://www.usgs.gov/centers/astrogeo-sc\">\\n      USGS Astrogeology Science Center\\n     </a>\\n    </div>\\n   </footer>\\n  </div>\\n  <!--\\n\\t\\t<div class=\"credit\">\\n\\t\\t\\t<small>Background Credits: NASA/USGS</small>\\n\\t\\t</div>\\n-->\\n  <div class=\"page-background\" style=\"\\n\\t\\t\\tbackground:url(\\'/images/backgrounds/mars.jpg\\');\\n\\t\\t\\tfilter:progid:DXImageTransform.Microsoft.AlphaImageLoader(\\n\\t\\t\\t\\tsrc=\\'/images/backgrounds/mars.jpg\\', sizingMethod=\\'scale\\');\\n\\t\\t\">\\n  </div>\\n  <script type=\"text/javascript\">\\n   var baseUrl = \"\";\\n\\n\\nvar _gaq = _gaq || [];_gaq.push([\\'_setAccount\\', \\'UA-27613186-1\\']);_gaq.push([\\'_trackPageview\\']);(function() { var ga = document.createElement(\\'script\\'); ga.type = \\'text/javascript\\'; ga.async = true;ga.src = (\\'https:\\' == document.location.protocol ? \\'https://ssl\\' : \\'http://www\\') + \\'.google-analytics.com/ga.js\\'; var s = document.getElementsByTagName(\\'script\\')[0]; s.parentNode.insertBefore(ga, s);})();\\n  </script>\\n  <script src=\"https://ajax.googleapis.com/ajax/libs/jquery/1.11.1/jquery.min.js\" type=\"text/javascript\">\\n  </script>\\n  <script src=\"//ajax.googleapis.com/ajax/libs/jqueryui/1.11.3/jquery-ui.min.js\" type=\"text/javascript\">\\n  </script>\\n  <script src=\"/js/general.js\" type=\"text/javascript\">\\n  </script>\\n </body>\\n</html>'"
      ]
     },
     "execution_count": 225,
     "metadata": {},
     "output_type": "execute_result"
    }
   ],
   "source": [
    "#Mars Hemispheres\n",
    "executable_path = {'executable_path': 'chromedriver'}\n",
    "browser = Browser('chrome', **executable_path, headless=False)\n",
    "mars_hemi_url=\"https://astrogeology.usgs.gov/search/results?q=hemisphere+enhanced&k1=target&v1=Mars\"\n",
    "browser.visit(mars_hemi_url)\n",
    "html=browser.html\n",
    "soup = BeautifulSoup(html, 'html.parser')\n",
    "soup.prettify()"
   ]
  },
  {
   "cell_type": "code",
   "execution_count": 248,
   "metadata": {},
   "outputs": [
    {
     "name": "stdout",
     "output_type": "stream",
     "text": [
      "hemisphere_image_urls=[ title : [[<h3>Cerberus Hemisphere Enhanced</h3>], [<h3>Schiaparelli Hemisphere Enhanced</h3>], [<h3>Syrtis Major Hemisphere Enhanced</h3>], [<h3>Valles Marineris Hemisphere Enhanced</h3>]],['/search/map/Mars/Viking/cerberus_enhanced', '/search/map/Mars/Viking/schiaparelli_enhanced', '/search/map/Mars/Viking/syrtis_major_enhanced', '/search/map/Mars/Viking/valles_marineris_enhanced']]\n"
     ]
    }
   ],
   "source": [
    "sidebar = soup.find('div', class_='collapsible results')\n",
    "\n",
    "categories = sidebar.find_all('div', class_='description')\n",
    "\n",
    "hemi_title = []\n",
    "hemi_url = []\n",
    "\n",
    "for category in categories:\n",
    "    hemisphere_image_urls  = {}\n",
    "    title = category.find_all('h3')\n",
    "    hemi_title.append(title)\n",
    "\n",
    "    url = category.find('a')['href']\n",
    "    #url=category.find\n",
    "    hemi_url.append(url)\n",
    "#print(hemi_title)\n",
    "\n",
    "\n",
    "hemi_url_list = ['https://astrogeology.usgs.gov/' + url for url in hemi_url]\n",
    "#print(hemi_url)\n",
    "#print(hemi_dict)\n",
    "\n",
    "print(f\"hemisphere_image_urls=[ title : {hemi_title},{hemi_url}]\")"
   ]
  },
  {
   "cell_type": "code",
   "execution_count": 236,
   "metadata": {},
   "outputs": [
    {
     "data": {
      "text/plain": [
       "[<h3>Cerberus Hemisphere Enhanced</h3>,\n",
       " <h3>Schiaparelli Hemisphere Enhanced</h3>,\n",
       " <h3>Syrtis Major Hemisphere Enhanced</h3>,\n",
       " <h3>Valles Marineris Hemisphere Enhanced</h3>]"
      ]
     },
     "execution_count": 236,
     "metadata": {},
     "output_type": "execute_result"
    }
   ],
   "source": [
    "hemi_title=[]\n",
    "mars_hemi=soup.find_all('h3')\n",
    "for i in mars_hemi:\n",
    "    hemi_title.append(i)\n",
    "hemi_title\n"
   ]
  },
  {
   "cell_type": "code",
   "execution_count": null,
   "metadata": {},
   "outputs": [],
   "source": [
    "# Initialize hemisphere_image_urls list\n",
    "hemisphere_image_urls = []\n",
    "\n",
    "# Loop through the hemisphere links to obtain the images\n",
    "for hemi in hemi_strings:\n",
    "    # Initialize a dictionary for the hemisphere\n",
    "    hemi_dict = {}\n",
    "    \n",
    "    # Click on the link with the corresponding text\n",
    "    browser.click_link_by_partial_text(hemi)\n",
    "    \n",
    "    # Scrape the image url string and store into the dictionary\n",
    "    hemi_dict[\"img_url\"] = browser.find_by_text('Sample')['href']\n",
    "    \n",
    "    # The hemisphere title is already in hemi_strings, so store it into the dictionary\n",
    "    hemi_dict[\"title\"] = hemi\n",
    "    \n",
    "    # Add the dictionary to hemisphere_image_urls\n",
    "    hemisphere_image_urls.append(hemi_dict)\n",
    "    \n",
    "    # Check for output\n",
    "    pprint(hemisphere_image_urls)\n",
    "    \n",
    "    # Click the 'Back' button\n",
    "    browser.click_link_by_partial_text('Back')"
   ]
  }
 ],
 "metadata": {
  "kernelspec": {
   "display_name": "Python 3",
   "language": "python",
   "name": "python3"
  },
  "language_info": {
   "codemirror_mode": {
    "name": "ipython",
    "version": 3
   },
   "file_extension": ".py",
   "mimetype": "text/x-python",
   "name": "python",
   "nbconvert_exporter": "python",
   "pygments_lexer": "ipython3",
   "version": "3.7.3"
  }
 },
 "nbformat": 4,
 "nbformat_minor": 2
}
